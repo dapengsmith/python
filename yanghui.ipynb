{
 "cells": [
  {
   "cell_type": "code",
   "execution_count": 3,
   "metadata": {},
   "outputs": [
    {
     "name": "stdout",
     "output_type": "stream",
     "text": [
      "请输入杨辉三角形的层数9\n",
      "你输入的是: 9\n",
      "请输入杨辉三角形的类型，y: 正杨辉三角形， n:倒杨辉三角形. y\n",
      "your input is  y\n",
      "打印正杨辉三角形\n",
      "                                            * \n",
      "                                           * * \n",
      "                                          * * * \n",
      "                                         * * * * \n",
      "                                        * * * * * \n",
      "                                       * * * * * * \n",
      "                                      * * * * * * * \n",
      "                                     * * * * * * * * \n",
      "                                    * * * * * * * * * \n",
      "完成\n"
     ]
    }
   ],
   "source": [
    "\n",
    "\n",
    "\n",
    "mynumber=int(input(\"请输入杨辉三角形的层数\"))\n",
    "print('你输入的是:',mynumber)\n",
    "\n",
    "myorder=input(\"请输入杨辉三角形的类型，y: 正杨辉三角形， n:倒杨辉三角形. \")\n",
    "\n",
    "print('your input is ',myorder)\n",
    "\n",
    "while mynumber>40:\n",
    "    print('your number is too big >40')\n",
    "    mynumber=int(input(\"请输入杨辉三角形的层数\"))\n",
    "if myorder=='y':\n",
    "    print('打印正杨辉三角形')\n",
    "    for i in range(1,mynumber+1):\n",
    "         print((45-i)*' '+ i * '* ')\n",
    "\n",
    "if myorder=='n':\n",
    "    print('打印倒杨辉三角形')\n",
    "    for i in range(mynumber,0,-1):\n",
    "         print((45-i)*' '+ i * '* ')\n",
    "print('完成')"
   ]
  },
  {
   "cell_type": "code",
   "execution_count": null,
   "metadata": {},
   "outputs": [],
   "source": []
  },
  {
   "cell_type": "code",
   "execution_count": null,
   "metadata": {},
   "outputs": [],
   "source": []
  },
  {
   "cell_type": "code",
   "execution_count": null,
   "metadata": {},
   "outputs": [],
   "source": []
  }
 ],
 "metadata": {
  "kernelspec": {
   "display_name": "Python 3",
   "language": "python",
   "name": "python3"
  },
  "language_info": {
   "codemirror_mode": {
    "name": "ipython",
    "version": 3
   },
   "file_extension": ".py",
   "mimetype": "text/x-python",
   "name": "python",
   "nbconvert_exporter": "python",
   "pygments_lexer": "ipython3",
   "version": "3.6.9"
  }
 },
 "nbformat": 4,
 "nbformat_minor": 2
}
